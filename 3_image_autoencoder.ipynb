{
 "cells": [
  {
   "cell_type": "code",
   "execution_count": 3,
   "metadata": {
    "collapsed": false
   },
   "outputs": [
    {
     "name": "stdout",
     "output_type": "stream",
     "text": [
      "2.8.0+cu128\n",
      "NVIDIA H200\n"
     ]
    }
   ],
   "source": [
    "# check successful setup\n",
    "import torch\n",
    "print(torch.__version__)\n",
    "device = torch.device(\"cuda\")\n",
    "print(torch.cuda.get_device_name(device))"
   ]
  },
  {
   "cell_type": "markdown",
   "metadata": {
    "collapsed": true,
    "id": "Ciky3TZbsCV5",
    "pycharm": {
     "name": "#%% md\n"
    }
   },
   "source": [
    "# 3 CIFAR10 Autoencoder\n",
    "\n",
    "Now that we know how the core of UPT works, its time to introduce some of the new components.\n",
    "In this notebook, we will change the last layer back to what UPT uses, i.e. a perceiver decoder.\n",
    "To showcase this, we'll train a simple autoencoder by decoding the latent space of the model\n",
    "via regular grid positions, i.e. we query the latent space with the positions of each pixel\n",
    "to reconstruct the image from the latent space.\n",
    "\n",
    "We'll keep the ViT patch embedding as first layer as we are working with images as input but\n",
    "change the decoder back to the perceiver decoder.\n",
    "\n",
    "\n",
    "<img width=\"60%\" src=\"https://raw.githubusercontent.com/BenediktAlkin/upt-tutorial/main/schematics/upt_dense_autoencoder.svg\">"
   ]
  },
  {
   "cell_type": "markdown",
   "metadata": {
    "collapsed": false,
    "id": "UelHurD5sCV6"
   },
   "source": [
    "Same dataloading as before except that we don't need the label here, because we train an autoencoder."
   ]
  },
  {
   "cell_type": "code",
   "execution_count": 4,
   "metadata": {
    "colab": {
     "base_uri": "https://localhost:8080/"
    },
    "id": "Py1sXDhdsCV6",
    "outputId": "1527e9c7-486b-4aee-94bd-a3f75ca1d535"
   },
   "outputs": [],
   "source": [
    "# initialize CIFAR10\n",
    "from torchvision.datasets import CIFAR10\n",
    "train_dataset = CIFAR10(root=\"./data\", train=True, download=True)"
   ]
  },
  {
   "cell_type": "code",
   "execution_count": 5,
   "metadata": {
    "colab": {
     "base_uri": "https://localhost:8080/"
    },
    "id": "Q629DvMbsCV6",
    "outputId": "249d1601-7136-4bad-f869-485d5abeed3c"
   },
   "outputs": [
    {
     "name": "stdout",
     "output_type": "stream",
     "text": [
      "label: 6\n"
     ]
    },
    {
     "data": {
      "image/jpeg": "[encoded data removed]",
      "image/png": "[encoded data removed]",
      "text/plain": [
       "<PIL.Image.Image image mode=RGB size=32x32>"
      ]
     },
     "metadata": {},
     "output_type": "display_data"
    }
   ],
   "source": [
    "# visualize image\n",
    "image, label = train_dataset[0]\n",
    "print(f\"label: {label}\")\n",
    "display(image)"
   ]
  },
  {
   "cell_type": "markdown",
   "metadata": {
    "collapsed": false,
    "id": "AejNXoXusCV6"
   },
   "source": [
    "The encoder is the same as in the previous tutorial (UPT with a ViT patch embedding instead of\n",
    "the message passing to supernodes)."
   ]
  },
  {
   "cell_type": "code",
   "execution_count": 8,
   "metadata": {
    "colab": {
     "base_uri": "https://localhost:8080/"
    },
    "id": "1hfd_ViIsCV6",
    "outputId": "1c885b8d-dba8-4177-851a-6be9aa78372b",
    "pycharm": {
     "name": "#%%\n"
    }
   },
   "outputs": [
    {
     "name": "stdout",
     "output_type": "stream",
     "text": [
      "encoded_image.shape: torch.Size([1, 64, 192])\n"
     ]
    }
   ],
   "source": [
    "from upt.models.encoder_image import EncoderImage\n",
    "encoder = EncoderImage(\n",
    "    # CIFAR has 3 channels (RGB)\n",
    "    input_dim=3,\n",
    "    # CIFAR has 32x32 images -> patch_size=4 results in 64 patch tokens\n",
    "    resolution=32,\n",
    "    patch_size=4,\n",
    "    # ViT-T latent dimension\n",
    "    enc_dim=192,\n",
    "    enc_num_heads=3,\n",
    "    # ViT-T has 12 blocks -> parameters are split evenly among encoder/approximator/decoder\n",
    "    enc_depth=4,\n",
    "    # the perceiver is optional, it changes the size of the latent space to NUM_LATENT_TOKENS tokens\n",
    "    # perc_dim=dim,\n",
    "    # perc_num_heads=num_heads,\n",
    "    # num_latent_tokens=32,\n",
    ")\n",
    "\n",
    "# we can now encode images\n",
    "image, label = train_dataset[0]\n",
    "# convert image to a tensor\n",
    "from torchvision.transforms import ToTensor\n",
    "tensor = ToTensor()(image).unsqueeze(0)\n",
    "encoded_image = encoder(tensor)\n",
    "print(f\"encoded_image.shape: {encoded_image.shape}\")"
   ]
  },
  {
   "cell_type": "markdown",
   "metadata": {
    "collapsed": false,
    "id": "RIDayp2NsCV7",
    "pycharm": {
     "name": "#%% md\n"
    }
   },
   "source": [
    "In this setting, we dont really need an approximator, but we'll keep it for consistency."
   ]
  },
  {
   "cell_type": "code",
   "execution_count": 9,
   "metadata": {
    "colab": {
     "base_uri": "https://localhost:8080/"
    },
    "id": "If3yzbq_sCV7",
    "outputId": "e9005a09-da93-46c6-a752-1db861783730",
    "pycharm": {
     "name": "#%%\n"
    }
   },
   "outputs": [
    {
     "name": "stdout",
     "output_type": "stream",
     "text": [
      "approximator_output.shape: torch.Size([1, 64, 192])\n"
     ]
    }
   ],
   "source": [
    "from upt.models.approximator import Approximator\n",
    "approximator = Approximator(\n",
    "    # tell the approximator the dimension of the input (perc_dim or enc_dim of encoder)\n",
    "    input_dim=192,\n",
    "    # as in ViT-T\n",
    "    dim=192,\n",
    "    num_heads=3,\n",
    "    # ViT-T has 12 blocks -> parameters are split evenly among encoder/approximator/decoder\n",
    "    depth=4,\n",
    ")\n",
    "\n",
    "approximator_output = approximator(encoded_image)\n",
    "print(f\"approximator_output.shape: {approximator_output.shape}\")"
   ]
  },
  {
   "cell_type": "markdown",
   "metadata": {
    "collapsed": false,
    "id": "rWpZ5BqRsCV7",
    "pycharm": {
     "name": "#%% md\n"
    }
   },
   "source": [
    "We now need a decoder that can predict images, so we use the perceiver decoder and query\n",
    "the latent space at each pixel position to produce an image."
   ]
  },
  {
   "cell_type": "code",
   "execution_count": 10,
   "metadata": {
    "id": "-En1hHeWsCV7",
    "pycharm": {
     "name": "#%%\n"
    }
   },
   "outputs": [],
   "source": [
    "from upt.models.decoder_perceiver import DecoderPerceiver\n",
    "decoder = DecoderPerceiver(\n",
    "    # tell the decoder the dimension of the input (dim of approximator)\n",
    "    input_dim=192,\n",
    "    # 3 channels for RGB\n",
    "    output_dim=3,\n",
    "    # as in ViT-T\n",
    "    dim=192,\n",
    "    num_heads=3,\n",
    "    # ViT-T has 12 blocks -> parameters are split evenly among encoder/approximator/decoder\n",
    "    depth=4,\n",
    "    # images are 2D\n",
    "    ndim=2,\n",
    ")"
   ]
  },
  {
   "cell_type": "code",
   "execution_count": 11,
   "metadata": {
    "id": "7Zisq0sAsCV7",
    "is_executing": true
   },
   "outputs": [],
   "source": [
    "# to query the latent space, we need pixel positions (CIFAR10 has 32x32 pixels)\n",
    "import einops\n",
    "import torch\n",
    "output_pos = einops.rearrange(\n",
    "    torch.stack(torch.meshgrid([torch.arange(32), torch.arange(32)], indexing=\"ij\")),\n",
    "    \"ndim height width -> (height width) ndim\",\n",
    ")"
   ]
  },
  {
   "cell_type": "code",
   "execution_count": 12,
   "metadata": {
    "colab": {
     "base_uri": "https://localhost:8080/"
    },
    "id": "SPuI7rB-sCV8",
    "outputId": "9838dd89-386e-4735-b172-ff6f41da9471"
   },
   "outputs": [
    {
     "name": "stdout",
     "output_type": "stream",
     "text": [
      "output_pos[0]: tensor([0, 0])\n",
      "output_pos[1]: tensor([0, 1])\n",
      "output_pos[2]: tensor([0, 2])\n",
      "output_pos[32]: tensor([1, 0])\n",
      "output_pos[1023]: tensor([31, 31])\n"
     ]
    }
   ],
   "source": [
    "# these positions are the pixel positions traversed row-wise from top-left\n",
    "print(f\"output_pos[0]: {output_pos[0]}\")\n",
    "print(f\"output_pos[1]: {output_pos[1]}\")\n",
    "print(f\"output_pos[2]: {output_pos[2]}\")\n",
    "print(f\"output_pos[32]: {output_pos[32]}\")\n",
    "print(f\"output_pos[1023]: {output_pos[1023]}\")"
   ]
  },
  {
   "cell_type": "markdown",
   "metadata": {
    "collapsed": false,
    "id": "1K8znbJnsCV8"
   },
   "source": [
    "Lets decode an image!"
   ]
  },
  {
   "cell_type": "code",
   "execution_count": 13,
   "metadata": {
    "id": "iA8GmSeptQI1"
   },
   "outputs": [],
   "source": [
    "# add batch dimension and convert to float\n",
    "output_pos = output_pos.unsqueeze(0).float()"
   ]
  },
  {
   "cell_type": "code",
   "execution_count": 14,
   "metadata": {
    "colab": {
     "base_uri": "https://localhost:8080/"
    },
    "id": "murzbiP4sCV8",
    "outputId": "cf33c25d-e0d6-4396-e697-92cc69112f1d"
   },
   "outputs": [
    {
     "name": "stdout",
     "output_type": "stream",
     "text": [
      "prediction.shape: torch.Size([1024, 3])\n"
     ]
    }
   ],
   "source": [
    "# decode\n",
    "prediction = decoder(approximator_output, output_pos=output_pos)\n",
    "print(f\"prediction.shape: {prediction.shape}\")"
   ]
  },
  {
   "cell_type": "markdown",
   "metadata": {
    "collapsed": false,
    "id": "p3GBBuM0sCV9",
    "pycharm": {
     "name": "#%% md\n"
    }
   },
   "source": [
    "# Train a model\n",
    "Now lets train the autoencoder."
   ]
  },
  {
   "cell_type": "code",
   "execution_count": 15,
   "metadata": {
    "colab": {
     "base_uri": "https://localhost:8080/"
    },
    "id": "NMtVmNfZsCV9",
    "outputId": "8b867585-1241-4d95-c1fb-9621fc544281",
    "pycharm": {
     "name": "#%%\n"
    }
   },
   "outputs": [
    {
     "name": "stdout",
     "output_type": "stream",
     "text": [
      "parameters: 5.9M\n"
     ]
    },
    {
     "name": "stderr",
     "output_type": "stream",
     "text": [
      "train_loss: 0.0012 test_loss: 0.0012 : 100%|██████████| 1950/1950 [02:15<00:00, 15.72it/s]"
     ]
    }
   ],
   "source": [
    "import einops\n",
    "import torch\n",
    "import torch.nn.functional as F\n",
    "from torch.utils.data import DataLoader\n",
    "from torchvision.datasets import CIFAR10\n",
    "from torchvision.transforms import ToTensor\n",
    "from tqdm import tqdm\n",
    "\n",
    "from upt.models.approximator import Approximator\n",
    "from upt.models.decoder_perceiver import DecoderPerceiver\n",
    "from upt.models.encoder_image import EncoderImage\n",
    "from upt.models.upt_image_autoencoder import UPTImageAutoencoder\n",
    "\n",
    "# initialize device\n",
    "device = torch.device(\"cuda\")\n",
    "\n",
    "# initialize dataset\n",
    "transform = ToTensor()\n",
    "train_dataset = CIFAR10(root=\"./data\", train=True, download=True, transform=transform)\n",
    "test_dataset = CIFAR10(root=\"./data\", train=False, download=True, transform=transform)\n",
    "\n",
    "# hyperparameters\n",
    "dim = 192  # ~6M parameter model\n",
    "num_heads = 3\n",
    "epochs = 10\n",
    "batch_size = 256\n",
    "\n",
    "# initialize model\n",
    "model = UPTImageAutoencoder(\n",
    "    encoder=EncoderImage(\n",
    "        # CIFAR has 3 channels (RGB)\n",
    "        input_dim=3,\n",
    "        # CIFAR has 32x32 images -> patch_size=4 results in 64 patch tokens\n",
    "        resolution=32,\n",
    "        patch_size=4,\n",
    "        # ViT-T latent dimension\n",
    "        enc_dim=dim,\n",
    "        enc_num_heads=num_heads,\n",
    "        # ViT-T has 12 blocks -> parameters are split evenly among encoder/approximator/decoder\n",
    "        enc_depth=4,\n",
    "        # the perceiver is optional, it changes the size of the latent space to NUM_LATENT_TOKENS tokens\n",
    "        # perc_dim=dim,\n",
    "        # perc_num_heads=num_heads,\n",
    "        # num_latent_tokens=32,\n",
    "    ),\n",
    "    approximator=Approximator(\n",
    "        # tell the approximator the dimension of the input (perc_dim or enc_dim of encoder)\n",
    "        input_dim=dim,\n",
    "        # as in ViT-T\n",
    "        dim=dim,\n",
    "        num_heads=num_heads,\n",
    "        # ViT-T has 12 blocks -> parameters are split evenly among encoder/approximator/decoder\n",
    "        depth=4,\n",
    "    ),\n",
    "    decoder=DecoderPerceiver(\n",
    "        # tell the decoder the dimension of the input (dim of approximator)\n",
    "        input_dim=dim,\n",
    "        # 3 channels for RGB\n",
    "        output_dim=3,\n",
    "        # images have 2D coordinates\n",
    "        ndim=2,\n",
    "        # as in ViT-T\n",
    "        dim=dim,\n",
    "        num_heads=num_heads,\n",
    "        # ViT-T has 12 blocks -> parameters are split evenly among encoder/approximator/decoder\n",
    "        depth=4,\n",
    "        # reshape to image after decoding\n",
    "        unbatch_mode=\"image\",\n",
    "    ),\n",
    ")\n",
    "model = model.to(device)\n",
    "print(f\"parameters: {sum(p.numel() for p in model.parameters()) / 1e6:.1f}M\")\n",
    "\n",
    "# setup dataloaders\n",
    "train_dataloader = DataLoader(train_dataset, batch_size=batch_size, shuffle=True, drop_last=True)\n",
    "test_dataloader = DataLoader(test_dataset, batch_size=batch_size)\n",
    "\n",
    "# initialize optimizer and learning rate schedule (linear warmup for first 10% -> linear decay)\n",
    "optim = torch.optim.AdamW(model.parameters(), lr=1e-3, weight_decay=0.05)\n",
    "total_updates = len(train_dataloader) * epochs\n",
    "warmup_updates = int(total_updates * 0.1)\n",
    "lrs = torch.concat(\n",
    "    [\n",
    "        # linear warmup\n",
    "        torch.linspace(0, optim.defaults[\"lr\"], warmup_updates),\n",
    "        # linear decay\n",
    "        torch.linspace(optim.defaults[\"lr\"], 0, total_updates - warmup_updates),\n",
    "    ],\n",
    ")\n",
    "\n",
    "# output positions are fixed for training, we query on a regular grid\n",
    "# CIFAR has 32x32 pixels\n",
    "# output_pos will be a tensor of shape (32 * 32, 2) with and will contain x and y indices\n",
    "# output_pos[0] = [0, 0]\n",
    "# output_pos[1] = [0, 1]\n",
    "# output_pos[2] = [0, 2]\n",
    "# ...\n",
    "# output_pos[32] = [1, 0]\n",
    "# output_pos[1024] = [31, 31]\n",
    "output_pos = einops.rearrange(\n",
    "    torch.stack(torch.meshgrid([torch.arange(32), torch.arange(32)], indexing=\"ij\")),\n",
    "    \"ndim height width -> (height width) ndim\",\n",
    ")\n",
    "output_pos = output_pos.to(device)\n",
    "# convert output_pos from [0, 31] to [0, 1000] for better behavior with sin-cos pos embeddings\n",
    "output_pos = output_pos / 31 * 1000\n",
    "# decoder needs float dtype\n",
    "output_pos = output_pos.float()\n",
    "\n",
    "# train model\n",
    "update = 0\n",
    "pbar = tqdm(total=total_updates)\n",
    "pbar.update(0)\n",
    "pbar.set_description(\"train_loss: ????? test_loss. ?????\")\n",
    "train_losses = []\n",
    "test_losses = []\n",
    "test_loss = float(\"inf\")\n",
    "loss = None\n",
    "for _ in range(epochs):\n",
    "    # train for an epoch\n",
    "    for x, _ in train_dataloader:\n",
    "        # prepare forward pass\n",
    "        x = x.to(device)\n",
    "\n",
    "        # schedule learning rate\n",
    "        for param_group in optim.param_groups:\n",
    "            param_group[\"lr\"] = lrs[update]\n",
    "\n",
    "        # forward pass\n",
    "        x_hat = model(x, output_pos=einops.repeat(output_pos, \"... -> bs ...\", bs=len(x)))\n",
    "        loss = F.mse_loss(x_hat, x)\n",
    "\n",
    "        # backward pass\n",
    "        loss.backward()\n",
    "\n",
    "        # update step\n",
    "        optim.step()\n",
    "        optim.zero_grad()\n",
    "\n",
    "        # status update\n",
    "        update += 1\n",
    "        pbar.update()\n",
    "        pbar.set_description(\n",
    "            f\"train_loss: {loss.item():.4f} \"\n",
    "            f\"test_loss: {test_loss:.4f} \"\n",
    "        )\n",
    "        train_losses.append(loss.item())\n",
    "\n",
    "    # evaluate\n",
    "    test_loss = 0.\n",
    "    for x, _ in test_dataloader:\n",
    "        x = x.to(device)\n",
    "        with torch.no_grad():\n",
    "            x_hat = model(x, output_pos=einops.repeat(output_pos, \"... -> bs ...\", bs=len(x)))\n",
    "        test_loss += F.mse_loss(x_hat, x, reduction=\"none\").flatten(start_dim=1).mean(dim=1).sum().item()\n",
    "    test_loss /= len(test_dataset)\n",
    "    test_losses.append(test_loss)\n",
    "    pbar.set_description(\n",
    "        f\"train_loss: {loss.item():.4f} \"\n",
    "        f\"test_loss: {test_loss:.4f} \"\n",
    "    )\n"
   ]
  },
  {
   "cell_type": "markdown",
   "metadata": {
    "collapsed": false,
    "id": "H4HteWm7sCV9",
    "pycharm": {
     "name": "#%% md\n"
    }
   },
   "source": [
    "Lets plot the learning curves!"
   ]
  },
  {
   "cell_type": "code",
   "execution_count": 19,
   "metadata": {
    "colab": {
     "base_uri": "https://localhost:8080/",
     "height": 507
    },
    "id": "k96U2B4QsCV9",
    "outputId": "68be9343-19af-4535-b971-4605f48400c0",
    "pycharm": {
     "name": "#%%\n"
    }
   },
   "outputs": [
    {
     "data": {
      "image/png": "[encoded data removed]",
      "text/plain": [
       "<Figure size 1200x500 with 2 Axes>"
      ]
     },
     "metadata": {},
     "output_type": "display_data"
    }
   ],
   "source": [
    "import matplotlib.pyplot as plt\n",
    "_, axes = plt.subplots(1, 2, figsize=(12, 5))\n",
    "axes[0].plot(range(len(train_losses)), train_losses)\n",
    "axes[0].set_xlabel(\"Updates\")\n",
    "axes[0].set_ylabel(\"Train Loss\")\n",
    "axes[0].set_title(\"Train Loss\")\n",
    "axes[0].grid(True)\n",
    "axes[1].plot(range(len(test_losses)), test_losses)\n",
    "axes[1].set_xlabel(\"Updates\")\n",
    "axes[1].set_ylabel(\"Test Loss\")\n",
    "axes[1].set_title(\"Test Loss\")\n",
    "axes[1].grid(True)\n",
    "plt.tight_layout()\n",
    "plt.show()"
   ]
  },
  {
   "cell_type": "markdown",
   "metadata": {
    "id": "PI_ToqCf7ovu"
   },
   "source": [
    "Looks pretty good!\n",
    "Lets also visualize a reconstruction:"
   ]
  },
  {
   "cell_type": "code",
   "execution_count": 20,
   "metadata": {},
   "outputs": [],
   "source": [
    "x, _ = test_dataset[0]\n",
    "x = x.to(device)\n",
    "with torch.no_grad():\n",
    "  x_hat = model(x.unsqueeze(0), output_pos=output_pos.unsqueeze(0)).squeeze(0)"
   ]
  },
  {
   "cell_type": "code",
   "execution_count": 21,
   "metadata": {},
   "outputs": [
    {
     "data": {
      "image/png": "[encoded data removed]",
      "text/plain": [
       "<Figure size 400x200 with 2 Axes>"
      ]
     },
     "metadata": {},
     "output_type": "display_data"
    }
   ],
   "source": [
    "_, axes = plt.subplots(1, 2, figsize=(4, 2))\n",
    "axes[0].imshow(einops.rearrange(x.cpu(), \"three height width -> height width three\"))\n",
    "axes[0].set_title(\"input\")\n",
    "axes[0].set_axis_off()\n",
    "axes[1].imshow(einops.rearrange(x_hat.clamp(0, 1).cpu(), \"three height width -> height width three\"))\n",
    "axes[1].set_title(\"reconstruction\")\n",
    "axes[1].set_axis_off()\n",
    "plt.tight_layout()\n",
    "plt.show()"
   ]
  },
  {
   "cell_type": "markdown",
   "metadata": {},
   "source": [
    "Looks pretty good as well!"
   ]
  },
  {
   "cell_type": "markdown",
   "metadata": {},
   "source": []
  }
 ],
 "metadata": {
  "accelerator": "GPU",
  "colab": {
   "gpuType": "T4",
   "provenance": []
  },
  "kernelspec": {
   "display_name": ".venv",
   "language": "python",
   "name": "python3"
  },
  "language_info": {
   "codemirror_mode": {
    "name": "ipython",
    "version": 3
   },
   "file_extension": ".py",
   "mimetype": "text/x-python",
   "name": "python",
   "nbconvert_exporter": "python",
   "pygments_lexer": "ipython3",
   "version": "3.12.3"
  }
 },
 "nbformat": 4,
 "nbformat_minor": 4
}
