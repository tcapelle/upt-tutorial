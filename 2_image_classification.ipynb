{
 "cells": [
  {
   "cell_type": "code",
   "execution_count": 1,
   "metadata": {
    "colab": {
     "base_uri": "https://localhost:8080/"
    },
    "collapsed": true,
    "id": "6EmLgy9kqIFi",
    "outputId": "9f5b8b58-7e41-4226-ec21-500713c0fec2"
   },
   "outputs": [],
   "source": [
    "# setup environment\n",
    "# !pip install kappamodules"
   ]
  },
  {
   "cell_type": "code",
   "execution_count": 2,
   "metadata": {
    "collapsed": false
   },
   "outputs": [
    {
     "name": "stdout",
     "output_type": "stream",
     "text": [
      "2.8.0+cu128\n",
      "NVIDIA H200\n"
     ]
    }
   ],
   "source": [
    "# check successful setup\n",
    "import torch\n",
    "print(torch.__version__)\n",
    "device = torch.device(\"cuda\")\n",
    "print(torch.cuda.get_device_name(device))"
   ]
  },
  {
   "cell_type": "markdown",
   "metadata": {
    "collapsed": true,
    "id": "ThhbzQ3JqIFj",
    "pycharm": {
     "name": "#%% md\n"
    }
   },
   "source": [
    "# 2 CIFAR10 Image Classification\n",
    "\n",
    "At its core, UPT is very similar to a [Vision Tranformer (ViT)](https://arxiv.org/abs/2010.11929).\n",
    "As we omit the latent rollout for this tutorial, UPT is essentially a ViT where the first and last layer are different.\n",
    "The first layer of UPT, a message passing layer to supernodes, is a patch embedding layer in ViT. The last layer\n",
    "of a UPT, a perceiver decoder, is a linear classification head in ViT. There are some more differences, but for\n",
    "the sake of simplicity we'll leave it at that. Changes are highlighted in the orange bounding box.\n",
    "\n",
    "![UPT Dense Classifier](https://raw.githubusercontent.com/BenediktAlkin/upt-tutorial/refs/heads/main/schematics/upt_dense_classifier.svg)\n",
    "\n",
    "So this first example converts UPT back into a ViT to get familiar with the model. We do this because ViTs can easily\n",
    "process simple images, such as CIFAR10, which are very easy to load and process. Later parts of the tutorial will\n",
    "gradually move away from simple regular grid data (such as images) to irregular grid data (such as point clouds). But\n",
    "for now, we start with image classification on CIFAR10.\n",
    "\n",
    "Loading data can be done in a few lines of code:"
   ]
  },
  {
   "cell_type": "code",
   "execution_count": 4,
   "metadata": {
    "colab": {
     "base_uri": "https://localhost:8080/"
    },
    "id": "EuU4Zg9nqIFj",
    "outputId": "7ed97cbd-a39c-427e-cf1b-2ed1cc2c4cf8",
    "pycharm": {
     "name": "#%%\n"
    }
   },
   "outputs": [
    {
     "name": "stderr",
     "output_type": "stream",
     "text": [
      "100%|██████████| 170M/170M [03:09<00:00, 900kB/s] \n"
     ]
    }
   ],
   "source": [
    "# initialize CIFAR10\n",
    "from torchvision.datasets import CIFAR10\n",
    "train_dataset = CIFAR10(root=\"./data\", train=True, download=True)"
   ]
  },
  {
   "cell_type": "code",
   "execution_count": 8,
   "metadata": {
    "colab": {
     "base_uri": "https://localhost:8080/"
    },
    "id": "hJi46RkxqIFj",
    "outputId": "897ad451-f49e-4d2c-ec42-4eb864649028",
    "pycharm": {
     "name": "#%%\n"
    }
   },
   "outputs": [
    {
     "name": "stdout",
     "output_type": "stream",
     "text": [
      "label: 6\n"
     ]
    },
    {
     "data": {
      "image/jpeg": "[encoded data removed]",
      "image/png": "[encoded data removed]",
      "text/plain": [
       "<PIL.Image.Image image mode=RGB size=32x32>"
      ]
     },
     "metadata": {},
     "output_type": "display_data"
    }
   ],
   "source": [
    "# visualize image\n",
    "image, label = train_dataset[0]\n",
    "print(f\"label: {label}\")\n",
    "image.show()"
   ]
  },
  {
   "cell_type": "markdown",
   "metadata": {
    "collapsed": false,
    "id": "SBS0mGsuqIFk",
    "pycharm": {
     "name": "#%% md\n"
    }
   },
   "source": [
    "UPT is designed for irregular grid data, so we make some small adjustments to do image classification:\n",
    "- instead of the supernode pooling (which requires irregular grid data) we use a ViT patch embedding to handle images\n",
    "- instead of the Perceiver Decoder (which decodes the latent space per position), we instead classify the latent space\n",
    "into 10 classes by averaging all latent tokens and then using a linear classifier"
   ]
  },
  {
   "cell_type": "code",
   "execution_count": 9,
   "metadata": {
    "colab": {
     "base_uri": "https://localhost:8080/"
    },
    "id": "2baGn0muqIFk",
    "outputId": "d02d4c1b-eeb3-4f6c-fc5c-72b581e4c20f",
    "pycharm": {
     "name": "#%%\n"
    }
   },
   "outputs": [
    {
     "name": "stdout",
     "output_type": "stream",
     "text": [
      "encoded_image.shape: torch.Size([1, 64, 192])\n"
     ]
    }
   ],
   "source": [
    "from upt.models.encoder_image import EncoderImage\n",
    "encoder = EncoderImage(\n",
    "    # CIFAR has 3 channels (RGB)\n",
    "    input_dim=3,\n",
    "    # CIFAR has 32x32 images -> patch_size=4 results in 64 patch tokens\n",
    "    resolution=32,\n",
    "    patch_size=4,\n",
    "    # ViT-T latent dimension\n",
    "    enc_dim=192,\n",
    "    enc_num_heads=3,\n",
    "    # ViT-T has 12 blocks -> parameters are split evenly among encoder/approximator/decoder\n",
    "    enc_depth=4,\n",
    "    # the perceiver is optional, it changes the size of the latent space to NUM_LATENT_TOKENS tokens\n",
    "    # perc_dim=dim,\n",
    "    # perc_num_heads=num_heads,\n",
    "    # num_latent_tokens=32,\n",
    ")\n",
    "\n",
    "# we can now encode images\n",
    "image, label = train_dataset[0]\n",
    "# convert image to a tensor\n",
    "from torchvision.transforms import ToTensor\n",
    "tensor = ToTensor()(image).unsqueeze(0)\n",
    "encoded_image = encoder(tensor)\n",
    "print(f\"encoded_image.shape: {encoded_image.shape}\")"
   ]
  },
  {
   "cell_type": "markdown",
   "metadata": {
    "collapsed": false,
    "id": "YEvloDBxqIFk",
    "pycharm": {
     "name": "#%% md\n"
    }
   },
   "source": [
    "In this setting, we dont really need an approximator, but we'll keep it for consistency."
   ]
  },
  {
   "cell_type": "code",
   "execution_count": 10,
   "metadata": {
    "colab": {
     "base_uri": "https://localhost:8080/"
    },
    "id": "zhGDaqmiqIFk",
    "outputId": "3e23da61-aa29-41c1-c1a1-f6f9e3e60ccd",
    "pycharm": {
     "name": "#%%\n"
    }
   },
   "outputs": [
    {
     "name": "stdout",
     "output_type": "stream",
     "text": [
      "approximator_output.shape: torch.Size([1, 64, 192])\n"
     ]
    }
   ],
   "source": [
    "from upt.models.approximator import Approximator\n",
    "approximator = Approximator(\n",
    "    # tell the approximator the dimension of the input (perc_dim or enc_dim of encoder)\n",
    "    input_dim=192,\n",
    "    # as in ViT-T\n",
    "    dim=192,\n",
    "    num_heads=3,\n",
    "    # ViT-T has 12 blocks -> parameters are split evenly among encoder/approximator/decoder\n",
    "    depth=4,\n",
    ")\n",
    "\n",
    "approximator_output = approximator(encoded_image)\n",
    "print(f\"approximator_output.shape: {approximator_output.shape}\")"
   ]
  },
  {
   "cell_type": "markdown",
   "metadata": {
    "collapsed": false,
    "id": "ioM9UlaGqIFk",
    "pycharm": {
     "name": "#%% md\n"
    }
   },
   "source": [
    "The decoder now only uses some transformers, then averages all tokens and classifies the image with a simple linear\n",
    "head."
   ]
  },
  {
   "cell_type": "code",
   "execution_count": 11,
   "metadata": {
    "colab": {
     "base_uri": "https://localhost:8080/"
    },
    "id": "a0ar6wInqIFk",
    "outputId": "932e74da-8cb5-4a20-b9b0-51e35ff633e0",
    "pycharm": {
     "name": "#%%\n"
    }
   },
   "outputs": [
    {
     "name": "stdout",
     "output_type": "stream",
     "text": [
      "prediction.shape: torch.Size([1, 10])\n",
      "decoder predicted class: tensor([9])\n"
     ]
    }
   ],
   "source": [
    "from upt.models.decoder_classifier import DecoderClassifier\n",
    "decoder = DecoderClassifier(\n",
    "    # tell the decoder the dimension of the input (dim of approximator)\n",
    "    input_dim=192,\n",
    "    # CIFAR10 has 10 classes\n",
    "    num_classes=10,\n",
    "    # as in ViT-T\n",
    "    dim=192,\n",
    "    num_heads=3,\n",
    "    # ViT-T has 12 blocks -> parameters are split evenly among encoder/approximator/decoder\n",
    "    depth=4,\n",
    ")\n",
    "prediction = decoder(approximator_output)\n",
    "print(f\"prediction.shape: {prediction.shape}\")\n",
    "print(f\"decoder predicted class: {prediction.argmax(dim=1)}\")"
   ]
  },
  {
   "cell_type": "markdown",
   "metadata": {
    "collapsed": false,
    "id": "euX_c4GaqIFl",
    "pycharm": {
     "name": "#%% md\n"
    }
   },
   "source": [
    "# Train a model\n",
    "Now we can put it all together and train an image classifier."
   ]
  },
  {
   "cell_type": "code",
   "execution_count": 12,
   "metadata": {
    "colab": {
     "base_uri": "https://localhost:8080/"
    },
    "id": "cR-CMAyuqIFl",
    "outputId": "7e20543b-ae34-4001-d2f2-026e8472fcdd",
    "pycharm": {
     "name": "#%%\n"
    }
   },
   "outputs": [
    {
     "name": "stdout",
     "output_type": "stream",
     "text": [
      "parameters: 5.4M\n"
     ]
    },
    {
     "name": "stderr",
     "output_type": "stream",
     "text": [
      "train_loss: 0.6893 train_accuracy: 76.6% test_accuracy: 65.2%: 100%|██████████| 1950/1950 [01:24<00:00, 23.00it/s]\n"
     ]
    }
   ],
   "source": [
    "import torch\n",
    "import torch.nn.functional as F\n",
    "from torch.utils.data import DataLoader\n",
    "from torchvision.datasets import CIFAR10\n",
    "from torchvision.transforms import ToTensor\n",
    "from tqdm import tqdm\n",
    "\n",
    "from upt.models.approximator import Approximator\n",
    "from upt.models.decoder_classifier import DecoderClassifier\n",
    "from upt.models.encoder_image import EncoderImage\n",
    "from upt.models.upt_image_classifier import UPTImageClassifier\n",
    "\n",
    "# initialize dataset\n",
    "transform = ToTensor()\n",
    "train_dataset = CIFAR10(root=\"./data\", train=True, download=True, transform=transform)\n",
    "test_dataset = CIFAR10(root=\"./data\", train=False, download=True, transform=transform)\n",
    "\n",
    "# hyperparameters\n",
    "dim = 192  # ~6M parameter model\n",
    "num_heads = 3\n",
    "epochs = 10\n",
    "batch_size = 256\n",
    "\n",
    "# initialize model\n",
    "model = UPTImageClassifier(\n",
    "    encoder=EncoderImage(\n",
    "        # CIFAR has 3 channels (RGB)\n",
    "        input_dim=3,\n",
    "        # CIFAR has 32x32 images -> patch_size=4 results in 64 patch tokens\n",
    "        resolution=32,\n",
    "        patch_size=4,\n",
    "        # ViT-T latent dimension\n",
    "        enc_dim=dim,\n",
    "        enc_num_heads=num_heads,\n",
    "        # ViT-T has 12 blocks -> parameters are split evenly among encoder/approximator/decoder\n",
    "        enc_depth=4,\n",
    "        # the perceiver is optional, it changes the size of the latent space to NUM_LATENT_TOKENS tokens\n",
    "        # perc_dim=dim,\n",
    "        # perc_num_heads=num_heads,\n",
    "        # num_latent_tokens=32,\n",
    "    ),\n",
    "    approximator=Approximator(\n",
    "        # tell the approximator the dimension of the input (perc_dim or enc_dim of encoder)\n",
    "        input_dim=dim,\n",
    "        # as in ViT-T\n",
    "        dim=dim,\n",
    "        num_heads=num_heads,\n",
    "        # ViT-T has 12 blocks -> parameters are split evenly among encoder/approximator/decoder\n",
    "        depth=4,\n",
    "    ),\n",
    "    decoder=DecoderClassifier(\n",
    "        # tell the decoder the dimension of the input (dim of approximator)\n",
    "        input_dim=dim,\n",
    "        # CIFAR10 has 10 classes\n",
    "        num_classes=10,\n",
    "        # as in ViT-T\n",
    "        dim=dim,\n",
    "        num_heads=num_heads,\n",
    "        # ViT-T has 12 blocks -> parameters are split evenly among encoder/approximator/decoder\n",
    "        depth=4,\n",
    "    ),\n",
    ")\n",
    "model = model.to(device)\n",
    "print(f\"parameters: {sum(p.numel() for p in model.parameters()) / 1e6:.1f}M\")\n",
    "\n",
    "# setup dataloaders\n",
    "train_dataloader = DataLoader(train_dataset, batch_size=batch_size, shuffle=True, drop_last=True)\n",
    "test_dataloader = DataLoader(test_dataset, batch_size=batch_size)\n",
    "\n",
    "# initialize optimizer and learning rate schedule (linear warmup for first 10% -> linear decay)\n",
    "optim = torch.optim.AdamW(model.parameters(), lr=1e-3, weight_decay=0.05)\n",
    "total_updates = len(train_dataloader) * epochs\n",
    "warmup_updates = int(total_updates * 0.1)\n",
    "lrs = torch.concat(\n",
    "    [\n",
    "        # linear warmup\n",
    "        torch.linspace(0, optim.defaults[\"lr\"], warmup_updates),\n",
    "        # linear decay\n",
    "        torch.linspace(optim.defaults[\"lr\"], 0, total_updates - warmup_updates),\n",
    "    ],\n",
    ")\n",
    "\n",
    "# train model\n",
    "update = 0\n",
    "pbar = tqdm(total=total_updates)\n",
    "pbar.update(0)\n",
    "pbar.set_description(\"train_loss: ????? train_accuracy: ????% test_accuracy: ????%\")\n",
    "test_accuracy = 0.0\n",
    "train_losses = []\n",
    "train_accuracies = []\n",
    "test_accuracies = []\n",
    "loss = None\n",
    "train_accuracy = None\n",
    "for _ in range(epochs):\n",
    "    # train for an epoch\n",
    "    for x, y in train_dataloader:\n",
    "        # prepare forward pass\n",
    "        x = x.to(device)\n",
    "        y = y.to(device)\n",
    "\n",
    "        # schedule learning rate\n",
    "        for param_group in optim.param_groups:\n",
    "            param_group[\"lr\"] = lrs[update]\n",
    "\n",
    "        # forward pass\n",
    "        y_hat = model(x)\n",
    "        loss = F.cross_entropy(y_hat, y)\n",
    "\n",
    "        # backward pass\n",
    "        loss.backward()\n",
    "\n",
    "        # update step\n",
    "        optim.step()\n",
    "        optim.zero_grad()\n",
    "\n",
    "        # status update\n",
    "        train_accuracy = ((y_hat.argmax(dim=1) == y).sum() / y.numel()).item()\n",
    "        update += 1\n",
    "        pbar.update()\n",
    "        pbar.set_description(\n",
    "            f\"train_loss: {loss.item():.4f} \"\n",
    "            f\"train_accuracy: {train_accuracy * 100:4.1f}% \"\n",
    "            f\"test_accuracy: {test_accuracy * 100:4.1f}%\"\n",
    "        )\n",
    "        train_losses.append(loss.item())\n",
    "        train_accuracies.append(train_accuracy)\n",
    "\n",
    "    # evaluate\n",
    "    num_correct = 0\n",
    "    for x, y in test_dataloader:\n",
    "        x = x.to(device)\n",
    "        y = y.to(device)\n",
    "        with torch.no_grad():\n",
    "            y_hat = model(x)\n",
    "        num_correct += (y_hat.argmax(dim=1) == y).sum().item()\n",
    "    test_accuracy = num_correct / len(test_dataset)\n",
    "    test_accuracies.append(test_accuracy)\n",
    "    pbar.set_description(\n",
    "        f\"train_loss: {loss.item():.4f} \"\n",
    "        f\"train_accuracy: {train_accuracy * 100:4.1f}% \"\n",
    "        f\"test_accuracy: {test_accuracy * 100:4.1f}%\"\n",
    "    )\n",
    "pbar.close()"
   ]
  },
  {
   "cell_type": "markdown",
   "metadata": {
    "collapsed": false,
    "id": "vhWfm8aVqIFl",
    "pycharm": {
     "name": "#%% md\n"
    }
   },
   "source": [
    "Lets plot the learning curves"
   ]
  },
  {
   "cell_type": "code",
   "execution_count": 14,
   "metadata": {},
   "outputs": [
    {
     "data": {
      "text/plain": [
       "UPTImageClassifier(\n",
       "  (encoder): EncoderImage(\n",
       "    (patch_embed): VitPatchEmbed(\n",
       "      (proj): Conv2d(3, 192, kernel_size=(4, 4), stride=(4, 4))\n",
       "      (norm): Identity()\n",
       "    )\n",
       "    (pos_embed): VitPosEmbed2d()\n",
       "    (blocks): Sequential(\n",
       "      (0): PrenormBlock(\n",
       "        (norm1): LayerNorm((192,), eps=1e-06, elementwise_affine=True)\n",
       "        (attn): DotProductAttention1d(\n",
       "          (qkv): Linear(in_features=192, out_features=576, bias=True)\n",
       "          (proj): Linear(in_features=192, out_features=192, bias=True)\n",
       "        )\n",
       "        (ls1): Identity()\n",
       "        (drop_path1): DropPath(drop_prob=0.000)\n",
       "        (norm2): LayerNorm((192,), eps=1e-06, elementwise_affine=True)\n",
       "        (mlp): Mlp(\n",
       "          (fc1): Linear(in_features=192, out_features=768, bias=True)\n",
       "          (act): GELU(approximate='none')\n",
       "          (fc2): Linear(in_features=768, out_features=192, bias=True)\n",
       "        )\n",
       "        (ls2): Identity()\n",
       "        (drop_path2): DropPath(drop_prob=0.000)\n",
       "      )\n",
       "      (1): PrenormBlock(\n",
       "        (norm1): LayerNorm((192,), eps=1e-06, elementwise_affine=True)\n",
       "        (attn): DotProductAttention1d(\n",
       "          (qkv): Linear(in_features=192, out_features=576, bias=True)\n",
       "          (proj): Linear(in_features=192, out_features=192, bias=True)\n",
       "        )\n",
       "        (ls1): Identity()\n",
       "        (drop_path1): DropPath(drop_prob=0.000)\n",
       "        (norm2): LayerNorm((192,), eps=1e-06, elementwise_affine=True)\n",
       "        (mlp): Mlp(\n",
       "          (fc1): Linear(in_features=192, out_features=768, bias=True)\n",
       "          (act): GELU(approximate='none')\n",
       "          (fc2): Linear(in_features=768, out_features=192, bias=True)\n",
       "        )\n",
       "        (ls2): Identity()\n",
       "        (drop_path2): DropPath(drop_prob=0.000)\n",
       "      )\n",
       "      (2): PrenormBlock(\n",
       "        (norm1): LayerNorm((192,), eps=1e-06, elementwise_affine=True)\n",
       "        (attn): DotProductAttention1d(\n",
       "          (qkv): Linear(in_features=192, out_features=576, bias=True)\n",
       "          (proj): Linear(in_features=192, out_features=192, bias=True)\n",
       "        )\n",
       "        (ls1): Identity()\n",
       "        (drop_path1): DropPath(drop_prob=0.000)\n",
       "        (norm2): LayerNorm((192,), eps=1e-06, elementwise_affine=True)\n",
       "        (mlp): Mlp(\n",
       "          (fc1): Linear(in_features=192, out_features=768, bias=True)\n",
       "          (act): GELU(approximate='none')\n",
       "          (fc2): Linear(in_features=768, out_features=192, bias=True)\n",
       "        )\n",
       "        (ls2): Identity()\n",
       "        (drop_path2): DropPath(drop_prob=0.000)\n",
       "      )\n",
       "      (3): PrenormBlock(\n",
       "        (norm1): LayerNorm((192,), eps=1e-06, elementwise_affine=True)\n",
       "        (attn): DotProductAttention1d(\n",
       "          (qkv): Linear(in_features=192, out_features=576, bias=True)\n",
       "          (proj): Linear(in_features=192, out_features=192, bias=True)\n",
       "        )\n",
       "        (ls1): Identity()\n",
       "        (drop_path1): DropPath(drop_prob=0.000)\n",
       "        (norm2): LayerNorm((192,), eps=1e-06, elementwise_affine=True)\n",
       "        (mlp): Mlp(\n",
       "          (fc1): Linear(in_features=192, out_features=768, bias=True)\n",
       "          (act): GELU(approximate='none')\n",
       "          (fc2): Linear(in_features=768, out_features=192, bias=True)\n",
       "        )\n",
       "        (ls2): Identity()\n",
       "        (drop_path2): DropPath(drop_prob=0.000)\n",
       "      )\n",
       "    )\n",
       "  )\n",
       "  (approximator): Approximator(\n",
       "    (input_proj): LinearProjection(\n",
       "      (proj): Identity()\n",
       "    )\n",
       "    (blocks): Sequential(\n",
       "      (0): PrenormBlock(\n",
       "        (norm1): LayerNorm((192,), eps=1e-06, elementwise_affine=True)\n",
       "        (attn): DotProductAttention1d(\n",
       "          (qkv): Linear(in_features=192, out_features=576, bias=True)\n",
       "          (proj): Linear(in_features=192, out_features=192, bias=True)\n",
       "        )\n",
       "        (ls1): Identity()\n",
       "        (drop_path1): DropPath(drop_prob=0.000)\n",
       "        (norm2): LayerNorm((192,), eps=1e-06, elementwise_affine=True)\n",
       "        (mlp): Mlp(\n",
       "          (fc1): Linear(in_features=192, out_features=768, bias=True)\n",
       "          (act): GELU(approximate='none')\n",
       "          (fc2): Linear(in_features=768, out_features=192, bias=True)\n",
       "        )\n",
       "        (ls2): Identity()\n",
       "        (drop_path2): DropPath(drop_prob=0.000)\n",
       "      )\n",
       "      (1): PrenormBlock(\n",
       "        (norm1): LayerNorm((192,), eps=1e-06, elementwise_affine=True)\n",
       "        (attn): DotProductAttention1d(\n",
       "          (qkv): Linear(in_features=192, out_features=576, bias=True)\n",
       "          (proj): Linear(in_features=192, out_features=192, bias=True)\n",
       "        )\n",
       "        (ls1): Identity()\n",
       "        (drop_path1): DropPath(drop_prob=0.000)\n",
       "        (norm2): LayerNorm((192,), eps=1e-06, elementwise_affine=True)\n",
       "        (mlp): Mlp(\n",
       "          (fc1): Linear(in_features=192, out_features=768, bias=True)\n",
       "          (act): GELU(approximate='none')\n",
       "          (fc2): Linear(in_features=768, out_features=192, bias=True)\n",
       "        )\n",
       "        (ls2): Identity()\n",
       "        (drop_path2): DropPath(drop_prob=0.000)\n",
       "      )\n",
       "      (2): PrenormBlock(\n",
       "        (norm1): LayerNorm((192,), eps=1e-06, elementwise_affine=True)\n",
       "        (attn): DotProductAttention1d(\n",
       "          (qkv): Linear(in_features=192, out_features=576, bias=True)\n",
       "          (proj): Linear(in_features=192, out_features=192, bias=True)\n",
       "        )\n",
       "        (ls1): Identity()\n",
       "        (drop_path1): DropPath(drop_prob=0.000)\n",
       "        (norm2): LayerNorm((192,), eps=1e-06, elementwise_affine=True)\n",
       "        (mlp): Mlp(\n",
       "          (fc1): Linear(in_features=192, out_features=768, bias=True)\n",
       "          (act): GELU(approximate='none')\n",
       "          (fc2): Linear(in_features=768, out_features=192, bias=True)\n",
       "        )\n",
       "        (ls2): Identity()\n",
       "        (drop_path2): DropPath(drop_prob=0.000)\n",
       "      )\n",
       "      (3): PrenormBlock(\n",
       "        (norm1): LayerNorm((192,), eps=1e-06, elementwise_affine=True)\n",
       "        (attn): DotProductAttention1d(\n",
       "          (qkv): Linear(in_features=192, out_features=576, bias=True)\n",
       "          (proj): Linear(in_features=192, out_features=192, bias=True)\n",
       "        )\n",
       "        (ls1): Identity()\n",
       "        (drop_path1): DropPath(drop_prob=0.000)\n",
       "        (norm2): LayerNorm((192,), eps=1e-06, elementwise_affine=True)\n",
       "        (mlp): Mlp(\n",
       "          (fc1): Linear(in_features=192, out_features=768, bias=True)\n",
       "          (act): GELU(approximate='none')\n",
       "          (fc2): Linear(in_features=768, out_features=192, bias=True)\n",
       "        )\n",
       "        (ls2): Identity()\n",
       "        (drop_path2): DropPath(drop_prob=0.000)\n",
       "      )\n",
       "    )\n",
       "  )\n",
       "  (decoder): DecoderClassifier(\n",
       "    (input_proj): LinearProjection(\n",
       "      (proj): Identity()\n",
       "    )\n",
       "    (blocks): Sequential(\n",
       "      (0): VitBlock(\n",
       "        (norm1): LayerNorm((192,), eps=1e-06, elementwise_affine=True)\n",
       "        (attn): DotProductAttention1d(\n",
       "          (qkv): Linear(in_features=192, out_features=576, bias=True)\n",
       "          (proj): Linear(in_features=192, out_features=192, bias=True)\n",
       "        )\n",
       "        (drop_path1): DropPath(drop_prob=0.000)\n",
       "        (norm2): LayerNorm((192,), eps=1e-06, elementwise_affine=True)\n",
       "        (mlp): VitMlp(\n",
       "          (fc1): Linear(in_features=192, out_features=768, bias=True)\n",
       "          (act): GELU(approximate='none')\n",
       "          (fc2): Linear(in_features=768, out_features=192, bias=True)\n",
       "        )\n",
       "        (drop_path2): DropPath(drop_prob=0.000)\n",
       "      )\n",
       "      (1): VitBlock(\n",
       "        (norm1): LayerNorm((192,), eps=1e-06, elementwise_affine=True)\n",
       "        (attn): DotProductAttention1d(\n",
       "          (qkv): Linear(in_features=192, out_features=576, bias=True)\n",
       "          (proj): Linear(in_features=192, out_features=192, bias=True)\n",
       "        )\n",
       "        (drop_path1): DropPath(drop_prob=0.000)\n",
       "        (norm2): LayerNorm((192,), eps=1e-06, elementwise_affine=True)\n",
       "        (mlp): VitMlp(\n",
       "          (fc1): Linear(in_features=192, out_features=768, bias=True)\n",
       "          (act): GELU(approximate='none')\n",
       "          (fc2): Linear(in_features=768, out_features=192, bias=True)\n",
       "        )\n",
       "        (drop_path2): DropPath(drop_prob=0.000)\n",
       "      )\n",
       "      (2): VitBlock(\n",
       "        (norm1): LayerNorm((192,), eps=1e-06, elementwise_affine=True)\n",
       "        (attn): DotProductAttention1d(\n",
       "          (qkv): Linear(in_features=192, out_features=576, bias=True)\n",
       "          (proj): Linear(in_features=192, out_features=192, bias=True)\n",
       "        )\n",
       "        (drop_path1): DropPath(drop_prob=0.000)\n",
       "        (norm2): LayerNorm((192,), eps=1e-06, elementwise_affine=True)\n",
       "        (mlp): VitMlp(\n",
       "          (fc1): Linear(in_features=192, out_features=768, bias=True)\n",
       "          (act): GELU(approximate='none')\n",
       "          (fc2): Linear(in_features=768, out_features=192, bias=True)\n",
       "        )\n",
       "        (drop_path2): DropPath(drop_prob=0.000)\n",
       "      )\n",
       "      (3): VitBlock(\n",
       "        (norm1): LayerNorm((192,), eps=1e-06, elementwise_affine=True)\n",
       "        (attn): DotProductAttention1d(\n",
       "          (qkv): Linear(in_features=192, out_features=576, bias=True)\n",
       "          (proj): Linear(in_features=192, out_features=192, bias=True)\n",
       "        )\n",
       "        (drop_path1): DropPath(drop_prob=0.000)\n",
       "        (norm2): LayerNorm((192,), eps=1e-06, elementwise_affine=True)\n",
       "        (mlp): VitMlp(\n",
       "          (fc1): Linear(in_features=192, out_features=768, bias=True)\n",
       "          (act): GELU(approximate='none')\n",
       "          (fc2): Linear(in_features=768, out_features=192, bias=True)\n",
       "        )\n",
       "        (drop_path2): DropPath(drop_prob=0.000)\n",
       "      )\n",
       "    )\n",
       "    (head): Sequential(\n",
       "      (0): LayerNorm((192,), eps=1e-06, elementwise_affine=True)\n",
       "      (1): LinearProjection(\n",
       "        (proj): Linear(in_features=192, out_features=10, bias=True)\n",
       "      )\n",
       "    )\n",
       "  )\n",
       ")"
      ]
     },
     "execution_count": 14,
     "metadata": {},
     "output_type": "execute_result"
    }
   ],
   "source": [
    "model"
   ]
  },
  {
   "cell_type": "code",
   "execution_count": 13,
   "metadata": {
    "colab": {
     "base_uri": "https://localhost:8080/",
     "height": 507
    },
    "id": "8o8R7sK0qIFl",
    "outputId": "ee290189-7841-4c77-d843-a995d20fe95b",
    "pycharm": {
     "name": "#%%\n"
    }
   },
   "outputs": [
    {
     "data": {
      "image/png": "[encoded data removed]",
      "text/plain": [
       "<Figure size 1800x500 with 3 Axes>"
      ]
     },
     "metadata": {},
     "output_type": "display_data"
    }
   ],
   "source": [
    "import matplotlib.pyplot as plt\n",
    "_, axes = plt.subplots(1, 3, figsize=(18, 5))\n",
    "axes[0].plot(range(len(train_losses)), train_losses)\n",
    "axes[0].set_xlabel(\"Updates\")\n",
    "axes[0].set_ylabel(\"Train Loss\")\n",
    "axes[0].set_title(\"Train Loss\")\n",
    "axes[0].grid(True)\n",
    "axes[1].plot(range(len(train_accuracies)), train_accuracies)\n",
    "axes[1].set_xlabel(\"Updates\")\n",
    "axes[1].set_ylabel(\"Train Accuracy\")\n",
    "axes[1].set_title(\"Train Accuracy\")\n",
    "axes[1].grid(True)\n",
    "axes[2].plot(range(len(test_accuracies)), test_accuracies, marker=\"o\")\n",
    "axes[2].set_xlabel(\"Epochs\")\n",
    "axes[2].set_ylabel(\"Test Accuracy\")\n",
    "axes[2].set_title(\"Test Accuracy\")\n",
    "axes[2].grid(True)\n",
    "plt.tight_layout()\n",
    "plt.show()"
   ]
  },
  {
   "cell_type": "markdown",
   "metadata": {
    "collapsed": false,
    "id": "hDWRPHc7qIFl",
    "pycharm": {
     "name": "#%% md\n"
    }
   },
   "source": [
    "Not the best classifier, but you know: it works! There are of course a lot of things (augmentations, longer training, better hyperparameters) that would improve classification performance but it should show you the basics of UPT."
   ]
  }
 ],
 "metadata": {
  "accelerator": "GPU",
  "colab": {
   "gpuType": "T4",
   "provenance": []
  },
  "kernelspec": {
   "display_name": ".venv",
   "language": "python",
   "name": "python3"
  },
  "language_info": {
   "codemirror_mode": {
    "name": "ipython",
    "version": 3
   },
   "file_extension": ".py",
   "mimetype": "text/x-python",
   "name": "python",
   "nbconvert_exporter": "python",
   "pygments_lexer": "ipython3",
   "version": "3.12.3"
  }
 },
 "nbformat": 4,
 "nbformat_minor": 0
}
